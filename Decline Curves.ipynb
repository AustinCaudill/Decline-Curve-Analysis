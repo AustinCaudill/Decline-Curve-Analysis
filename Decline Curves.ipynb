{
 "cells": [
  {
   "cell_type": "markdown",
   "metadata": {},
   "source": [
    "Exponential Decline and Cumulative Production\n",
    "Austin Caudill\n",
    "Examples here built with only 2 points - should not be used to make real-life decisions!\n",
    "\n",
    "Idea for the future: Add Harmonic/Hyperbolic/etc"
   ]
  },
  {
   "cell_type": "code",
   "execution_count": null,
   "metadata": {},
   "outputs": [],
   "source": [
    "#Load Imports\n",
    "\n",
    "import numpy as np\n",
    "import plotly.graph_objects as go\n",
    "from plotly.subplots import make_subplots"
   ]
  },
  {
   "cell_type": "code",
   "execution_count": null,
   "metadata": {},
   "outputs": [],
   "source": [
    "# Input Data\n",
    "\n",
    "t_1m = 1 # month\n",
    "q_1m = 900 # stb/day\n",
    "t_0m = 0 # month\n",
    "q_0m = 1000 #stb/day\n",
    "\n",
    "t = np.arange(0.1,120,0.5) # 120 months by 1/2 month"
   ]
  },
  {
   "cell_type": "code",
   "execution_count": null,
   "metadata": {},
   "outputs": [],
   "source": [
    "# Exponential Decline\n",
    "\n",
    "b = np.log(q_0m/q_1m)/(t_1m - t_0m)\n",
    "q = q_0m * np.exp(-b * t) # Forecast\n",
    "Np = (q_0m - q) * 365/(b * 12)\n",
    "print(Np)"
   ]
  },
  {
   "cell_type": "code",
   "execution_count": null,
   "metadata": {},
   "outputs": [],
   "source": [
    "# Plot\n",
    "fig = make_subplots(specs=[[{\"secondary_y\": True}]])\n",
    "fig.add_trace(go.Scatter(x=t, y=q, name='Rate (q)', line=dict(color='green', width=4)))\n",
    "fig.add_trace(go.Scatter(x=t, y=Np/1000000,\n",
    "                    name='Cum Production (Np)', line=dict(color='green', width=4, dash='dash')),\n",
    "                    secondary_y=True)\n",
    "\n",
    "# Set x-axis title\n",
    "fig.update_xaxes(title_text=\"Time in Months\")\n",
    "\n",
    "# Set y-axes titles\n",
    "fig.update_yaxes(title_text=\"Rate (STB/Day)\", secondary_y=False)\n",
    "fig.update_yaxes(title_text=\"Cum Production (MMSTB)\", secondary_y=True)\n",
    "\n",
    "fig.update_layout(\n",
    "    title={'text': \"Exponential\", 'xanchor': \"center\"},\n",
    "    legend={\n",
    "    'yanchor': \"top\",\n",
    "    'xanchor': \"right\",\n",
    "    }\n",
    "    )\n",
    "\n",
    "fig.show()"
   ]
  }
 ],
 "metadata": {
  "interpreter": {
   "hash": "d23f320779a46d7d6778a5409533e0d7ab3bdbcfc45c367f896d4c9aa3fca527"
  },
  "kernelspec": {
   "display_name": "Python 3 (ipykernel)",
   "language": "python",
   "name": "python3"
  },
  "language_info": {
   "codemirror_mode": {
    "name": "ipython",
    "version": 3
   },
   "file_extension": ".py",
   "mimetype": "text/x-python",
   "name": "python",
   "nbconvert_exporter": "python",
   "pygments_lexer": "ipython3",
   "version": "3.8.12"
  }
 },
 "nbformat": 4,
 "nbformat_minor": 2
}
